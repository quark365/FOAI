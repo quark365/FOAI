{
  "cells": [
    {
      "cell_type": "markdown",
      "metadata": {
        "id": "_SmqYAuQRIg2"
      },
      "source": [
        "#QUESTION 2: Intelligent Agents: Reflex-Based Agents for the Vacuum-cleaner World\n",
        "\n",
        "\n",
        "\n",
        "Now that you are having a basic knowledge of how the agent must work, recall our discussions regarding the agent types and environment. We will now include the PEAS information and redesign the agent.\n",
        "In this assignment you will implement a simulator environment for an automatic vacuum cleaner robot, a set of different reflex-based agent programs, and perform a comparison study for cleaning a single room. Focus on the __cleaning phase__ which starts when the robot is activated and ends when the last dirty square in the room has been cleaned. Someone else will take care of the agent program needed to navigate back to the charging station after the room is clean.\n",
        "\n",
        "## PEAS description of the cleaning phase\n",
        "\n",
        "__Performance Measure:__ Each action costs 1 energy unit. The performance is measured as the sum of the energy units used to clean the whole room.\n",
        "\n",
        "__Environment:__ A room with $n \\times n$ squares where $n = 5$. Dirt is randomly placed on each square with probability $p = 0.2$. For simplicity, you can assume that the agent knows the size and the layout of the room (i.e., it knows $n$). To start, the agent is placed on a random square.\n",
        "\n",
        "__Actuators:__ The agent can clean the current square (action `suck`) or move to an adjacent square by going `north`, `east`, `south`, or `west`.\n",
        "\n",
        "__Sensors:__ Four bumper sensors, one for north, east, south, and west; a dirt sensor reporting dirt in the current square.  \n",
        "\n",
        "\n",
        "## The agent program for a simple randomized agent\n",
        "\n",
        "The agent program is a function that gets sensor information (the current percepts) as the arguments. The arguments are:\n",
        "\n",
        "* A dictionary with boolean entries for the for bumper sensors `north`, `east`, `west`, `south`. E.g., if the agent is on the north-west corner, `bumpers` will be `{\"north\" : True, \"east\" : False, \"south\" : False, \"west\" : True}`.\n",
        "* The dirt sensor produces a boolean.\n",
        "\n",
        "The agent returns the chosen action as a string.\n",
        "\n",
        "Here is an example implementation for the agent program of a simple randomized agent:  "
      ]
    },
    {
      "cell_type": "code",
      "execution_count": null,
      "metadata": {
        "id": "fbsBjpwTRIg6"
      },
      "outputs": [],
      "source": [
        "import numpy as np\n",
        "\n",
        "actions = [\"north\", \"east\", \"west\", \"south\", \"suck\"]\n",
        "\n",
        "def simple_randomized_agent(bumpers, dirty):\n",
        "    return np.random.choice(actions)"
      ]
    },
    {
      "cell_type": "code",
      "execution_count": null,
      "metadata": {
        "colab": {
          "base_uri": "https://localhost:8080/",
          "height": 36
        },
        "id": "GrJ5fA1uRIg8",
        "outputId": "d8fbfd30-11e6-4f1c-d57f-b937cf06f32b"
      },
      "outputs": [
        {
          "data": {
            "application/vnd.google.colaboratory.intrinsic+json": {
              "type": "string"
            },
            "text/plain": [
              "'suck'"
            ]
          },
          "execution_count": 45,
          "metadata": {},
          "output_type": "execute_result"
        }
      ],
      "source": [
        "# define percepts (current location is NW corner and it is dirty)\n",
        "bumpers = {\"north\" : True, \"east\" : False, \"south\" : False, \"west\" : True}\n",
        "dirty = True\n",
        "\n",
        "# call agent program function with percepts and it returns an action\n",
        "simple_randomized_agent(bumpers, dirty)"
      ]
    },
    {
      "cell_type": "markdown",
      "metadata": {
        "id": "TFJ53sPFRIg9"
      },
      "source": [
        "__Note:__ This is not a rational intelligent agent. It ignores its sensors and may bump into a wall repeatedly or not clean a dirty square. You will be asked to implement rational agents below."
      ]
    },
    {
      "cell_type": "markdown",
      "metadata": {
        "id": "V-HnubcwRIg9"
      },
      "source": [
        "## Simple environment example\n",
        "\n",
        "We implement a simple simulation environment that supplies the agent with its percepts.\n",
        "The simple environment is infinite in size (bumpers are always `False`) and every square is always dirty, even if the agent cleans it. The environment function returns a performance measure which is here the number of cleaned squares (since the room is infinite and all squares are constantly dirty, the agent can never clean the whole room as required in the PEAS description above). The energy budget of the agent is specified as `max_steps`."
      ]
    },
    {
      "cell_type": "code",
      "execution_count": null,
      "metadata": {
        "id": "FWzejLH5RIg9"
      },
      "outputs": [],
      "source": [
        "def simple_environment(agent, max_steps, verbose = True):\n",
        "    num_cleaned = 0\n",
        "\n",
        "    for i in range(max_steps):\n",
        "        dirty = True\n",
        "        bumpers = {\"north\" : False, \"south\" : False, \"west\" : False, \"east\" : False}\n",
        "\n",
        "        action = agent(bumpers, dirty)\n",
        "        if (verbose): print(\"step\", i , \"- action:\", action)\n",
        "\n",
        "        if (action == \"suck\"):\n",
        "            num_cleaned = num_cleaned + 1\n",
        "\n",
        "    return num_cleaned\n",
        "\n"
      ]
    },
    {
      "cell_type": "markdown",
      "metadata": {
        "id": "bRZwjISJRIg-"
      },
      "source": [
        "Do one simulation run with a simple randomized agent that has enough energy for 20 steps."
      ]
    },
    {
      "cell_type": "code",
      "execution_count": null,
      "metadata": {
        "colab": {
          "base_uri": "https://localhost:8080/"
        },
        "id": "745ouYk8RIg-",
        "outputId": "a27a94b9-2f3f-4987-a7a1-18d36fcbce52"
      },
      "outputs": [
        {
          "name": "stdout",
          "output_type": "stream",
          "text": [
            "step 0 - action: north\n",
            "step 1 - action: east\n",
            "step 2 - action: south\n",
            "step 3 - action: west\n",
            "step 4 - action: suck\n",
            "step 5 - action: east\n",
            "step 6 - action: suck\n",
            "step 7 - action: north\n",
            "step 8 - action: south\n",
            "step 9 - action: east\n",
            "step 10 - action: south\n",
            "step 11 - action: west\n",
            "step 12 - action: west\n",
            "step 13 - action: west\n",
            "step 14 - action: suck\n",
            "step 15 - action: north\n",
            "step 16 - action: suck\n",
            "step 17 - action: east\n",
            "step 18 - action: north\n",
            "step 19 - action: east\n"
          ]
        },
        {
          "data": {
            "text/plain": [
              "4"
            ]
          },
          "execution_count": 16,
          "metadata": {},
          "output_type": "execute_result"
        }
      ],
      "source": [
        "simple_environment(simple_randomized_agent, max_steps = 20)"
      ]
    },
    {
      "cell_type": "markdown",
      "metadata": {
        "id": "Gn0zP6XHRIg-"
      },
      "source": [
        "# Tasks\n",
        "\n",
        "\n",
        "1. Make sure that you use the latest version of this notebook. Sync your forked repository and pull the latest revision.\n",
        "2. Your implementation can use libraries like math, numpy, scipy, but not libraries that implement intelligent agents or complete search algorithms. Try to keep the code simple! In this course, we want to learn about the algorithms and we often do not need to use object-oriented design.\n",
        "3. You notebook needs to be formatted professionally.\n",
        "    - Add additional markdown blocks for your description, comments in the code, add tables and use mathplotlib to produce charts where appropriate\n",
        "    - Do not show debugging output or include an excessive amount of output.\n",
        "    - Check that your PDF file is readable. For example, long lines are cut off in the PDF file. You don't have control over page breaks, so do not worry about these.\n",
        "4. Document your code. Add a short discussion of how your implementation works and your design choices.\n",
        "\n",
        "\n",
        "## Task 1: Implement a simulation environment\n",
        "\n",
        "The simple environment above is not very realistic. Your environment simulator needs to follow the PEAS description from above. It needs to:\n",
        "\n",
        "* Initialize the environment by storing the state of each square (clean/dirty) and making some dirty.\n",
        "* Keep track of the agent's position.\n",
        "* Call the agent function repeatedly and provide the agent function with the sensor inputs.  \n",
        "* React to the agent's actions. E.g, by removing dirt from a square or moving the agent around unless there is a wall in the way.\n",
        "* Keep track of the performance measure. That is, track the agent's actions until all dirty squares are clean and count the number of actions it takes the agent to complete the task.\n",
        "\n",
        "The easiest implementation for the environment is to hold an 2-dimensional array to represent if squares are clean or dirty and to call the agent function in a loop until all squares are clean or a predefined number of steps have been reached (i.e., the robot runs out of energy).\n",
        "\n",
        "The simulation environment should be a function like the `simple_environment()` and needs to work with the simple randomized agent program from above. **Use the same environment for all your agent implementations in the tasks below.**\n",
        "\n",
        "*Note on debugging:* Debugging is difficult. Make sure your environment prints enough information when you use `verbose = True`. Also, implementing a function that the environment can use to displays the room with dirt and the current position of the robot at every step is very useful.  "
      ]
    },
    {
      "cell_type": "code",
      "execution_count": null,
      "metadata": {
        "colab": {
          "base_uri": "https://localhost:8080/"
        },
        "id": "IodK7cWwRIg_",
        "outputId": "0b2a7dc3-b0a7-4c12-882e-2ee6466bba9d"
      },
      "outputs": [
        {
          "name": "stdout",
          "output_type": "stream",
          "text": [
            "Enter the size of the room (nxn): 3\n",
            "\n",
            "Environment:\n",
            "[[1 1 0]\n",
            " [1 0 0]\n",
            " [1 1 1]]\n",
            "\n",
            "Step 0 - Position: (1,2), Action: start\n",
            "Location is Clean.\n",
            "\n",
            "Step 1 - Position: (0,2), Action: north\n",
            "Location is Clean.\n",
            "\n",
            "Step 2 - Position: (0,1), Action: west\n",
            "Location is Dirty, Action: suck\n",
            "Location has been Cleaned.\n",
            "\n",
            "Step 3 - Position: (0,0), Action: west\n",
            "Location is Dirty, Action: suck\n",
            "Location has been Cleaned.\n",
            "\n",
            "Step 4 - Position: (1,0), Action: south\n",
            "Location is Dirty, Action: suck\n",
            "Location has been Cleaned.\n",
            "\n",
            "Step 5 - Position: (1,1), Action: east\n",
            "Location is Clean.\n",
            "\n",
            "Step 6 - Position: (2,1), Action: south\n",
            "Location is Dirty, Action: suck\n",
            "Location has been Cleaned.\n",
            "\n",
            "Step 7 - Position: (2,2), Action: east\n",
            "Location is Dirty, Action: suck\n",
            "Location has been Cleaned.\n",
            "\n",
            "Step 8 - Position: (2,0), Action: west\n",
            "Location is Dirty, Action: suck\n",
            "Location has been Cleaned.\n",
            "\n",
            "Environment after cleaning:\n",
            "[[0 0 0]\n",
            " [0 0 0]\n",
            " [0 0 0]]\n",
            "\n",
            "Total cleaned locations: 6\n",
            "Total energy used: 9\n"
          ]
        }
      ],
      "source": [
        "# Your code and description goes here\n",
        "\n",
        "# importing required modules\n",
        "import numpy as np\n",
        "\n",
        "def simple_environment(n, verbose=True):\n",
        "    c = 0\n",
        "    e = 0\n",
        "    env = np.random.randint(2, size=(n, n)) # Generate a random 2D Environmnet with values 0 or 1\n",
        "    # env = np.random.choice([0, 1], size=(n, n), p=[0.5, 0.5])\n",
        "    # env = np.array([[int(x) for x in input(\"Enter row: \").split()]for i in range(n)])\n",
        "    print(\"\\nEnvironment:\",env,sep=\"\\n\")\n",
        "    print()\n",
        "\n",
        "    def simple_reflex_agent(env, c, e):\n",
        "        n = len(env)\n",
        "        visited = set() # initialize set to keep track of visit\n",
        "        # Generate a random position for the agent in a 2D space\n",
        "        i = np.random.randint(n)\n",
        "        j = np.random.randint(n)\n",
        "\n",
        "        def agent():\n",
        "          actions = [\"north\", \"east\", \"south\", \"west\"] # Actions for robot\n",
        "          np.random.shuffle(actions) # Shuffling actions\n",
        "          return actions\n",
        "\n",
        "        def dfs(row, col, action, c, e):\n",
        "            nonlocal verbose\n",
        "\n",
        "            if 0 <= row < n and 0 <= col < n and verbose == True and (row, col) not in visited: # condition check\n",
        "                visited.add((row, col)) # adding as visited\n",
        "                print(f\"Step {e} - Position: ({row},{col}), Action: {action}\")    # display\n",
        "                print(\"Location is Dirty, Action: suck\") if env[row,col] == 1 else print(\"Location is Clean.\\n\")   # Check dirty or clean and display\n",
        "\n",
        "                if env[row,col] == 1:\n",
        "                    env[row,col] = 0\n",
        "                    c += 1 # increment\n",
        "                    print(\"Location has been Cleaned.\\n\") # display\n",
        "                e += 1 # increment\n",
        "\n",
        "                actions = agent() # get an action\n",
        "                for next_action in actions:\n",
        "                    # Condition check for particular actions in random order and its dfs call\n",
        "                    if next_action == \"north\" and row > 0:\n",
        "                        c, e = dfs(row - 1, col, \"north\", c, e)\n",
        "                    elif next_action == \"south\" and row < n - 1:\n",
        "                        c, e = dfs(row + 1, col, \"south\", c, e)\n",
        "                    elif next_action == \"west\" and col > 0:\n",
        "                        c, e = dfs(row, col - 1, \"west\", c, e)\n",
        "                    elif next_action == \"east\" and col < n - 1:\n",
        "                        c, e = dfs(row, col + 1, \"east\", c, e)\n",
        "            return c, e  # return statemnet\n",
        "\n",
        "        return dfs(i, j, \"start\", c, e)  # dfs fn call output as return\n",
        "\n",
        "    c, e = simple_reflex_agent(env, c, e) # fn call\n",
        "    print(\"Environment after cleaning:\",env,sep=\"\\n\")\n",
        "    print()\n",
        "\n",
        "    return c, e # return statemnet\n",
        "\n",
        "\n",
        "n = int(input(\"Enter the size of the room (nxn): \")) # take user input\n",
        "\n",
        "c, e = simple_environment(n) # fn call\n",
        "\n",
        "# display results\n",
        "print(\"Total cleaned locations:\",c)\n",
        "print(\"Total energy used:\",e)\n"
      ]
    },
    {
      "cell_type": "markdown",
      "metadata": {
        "id": "7y69fDfDRIg_"
      },
      "source": [
        "\n",
        "\n",
        "The simple reflex agent randomly walks around but reacts to the bumper sensor by not bumping into the wall and to dirt with sucking. Implement the agent program as a function.\n",
        "\n",
        "_Note:_ Agents cannot directly use variable in the environment. They only gets the percepts as the arguments to the agent function."
      ]
    },
    {
      "cell_type": "code",
      "execution_count": null,
      "metadata": {
        "colab": {
          "base_uri": "https://localhost:8080/"
        },
        "id": "X5jc9xu6RIg_",
        "outputId": "c054bcbb-0b17-480c-e079-870070fb7488"
      },
      "outputs": [
        {
          "name": "stdout",
          "output_type": "stream",
          "text": [
            "Enter matrix dimension: 3\n",
            "Enter probability: 0.2\n",
            "\n",
            "Environment:\n",
            "[[1 1 1]\n",
            " [1 0 1]\n",
            " [1 1 1]]\n",
            "\n",
            "Step 0 Position: (1,1) Action: east\n",
            "Step 1 Position: (1,2) Action: suck\n",
            "Step 2 Position: (1,2) Action: south\n",
            "Step 3 Position: (2,2) Action: suck\n",
            "Step 4 Position: (2,2) Action: north\n",
            "Step 5 Position: (1,2) Action: west\n",
            "Step 6 Position: (1,1) Action: south\n",
            "Step 7 Position: (2,1) Action: suck\n",
            "Step 8 Position: (2,1) Action: north\n",
            "Step 9 Position: (1,1) Action: west\n",
            "Step 10 Position: (1,0) Action: suck\n",
            "Step 11 Position: (1,0) Action: north\n",
            "Step 12 Position: (0,0) Action: suck\n",
            "Step 13 Position: (0,0) Action: south\n",
            "Step 14 Position: (1,0) Action: east\n",
            "Step 15 Position: (1,1) Action: south\n",
            "Step 16 Position: (2,1) Action: west\n",
            "Step 17 Position: (2,0) Action: suck\n",
            "Step 18 Position: (2,0) Action: north\n",
            "Step 19 Position: (1,0) Action: east\n",
            "Step 20 Position: (1,1) Action: west\n",
            "Step 21 Position: (1,0) Action: east\n",
            "Step 22 Position: (1,1) Action: west\n",
            "Step 23 Position: (1,0) Action: north\n",
            "Step 24 Position: (0,0) Action: south\n",
            "Step 25 Position: (1,0) Action: north\n",
            "Step 26 Position: (0,0) Action: east\n",
            "Step 27 Position: (0,1) Action: suck\n",
            "Step 28 Position: (0,1) Action: west\n",
            "Step 29 Position: (0,0) Action: east\n",
            "Step 30 Position: (0,1) Action: west\n",
            "Step 31 Position: (0,0) Action: east\n",
            "Step 32 Position: (0,1) Action: west\n",
            "Step 33 Position: (0,0) Action: east\n",
            "Step 34 Position: (0,1) Action: west\n",
            "Step 35 Position: (0,0) Action: south\n",
            "Step 36 Position: (1,0) Action: east\n",
            "Step 37 Position: (1,1) Action: east\n",
            "Step 38 Position: (1,2) Action: north\n",
            "Step 39 Position: (0,2) Action: suck\n",
            "Step 40 Position: (0,2) Action: south\n",
            "\n",
            "Environment after cleaning:\n",
            "[[0 0 0]\n",
            " [0 0 0]\n",
            " [0 0 0]]\n",
            "\n",
            "Total locations Cleaned = 8\n",
            "Total energy Used = 41\n"
          ]
        }
      ],
      "source": [
        "# Your code and description goes here\n",
        "\n",
        "# importing required modules\n",
        "import random\n",
        "import numpy as np\n",
        "\n",
        "def simple_environment(n,prob):\n",
        "    #env = np.array([[random.randint(0, 1) for i in range(n)] for j in range(n)]) # Generate a random 2D array with values 0 or 1\n",
        "    env = np.random.choice([0, 1], size=(n, n), p=[prob, 1-prob])\n",
        "    # env = np.array([[int(x) for x in input(\"Enter row: \").split()]for i in range(n)])\n",
        "    # display\n",
        "    print(\"\\nEnvironment:\",env,sep=\"\\n\")\n",
        "    print()\n",
        "\n",
        "    def simple_randomized_agent(env,verbose=True):\n",
        "        n = len(env) # get len\n",
        "        visited = set() # initialize set to keep track of visit\n",
        "\n",
        "        def visit(i, j):\n",
        "            visited.add((i, j)) # adding as visited\n",
        "            if env[i,j] == 1: # check clean or not and display action\n",
        "                print(\"Action: suck\")\n",
        "                env[i,j] = 0\n",
        "                return 1\n",
        "            else: return 0\n",
        "\n",
        "        def agent():\n",
        "          return random.choice([\"north\", \"east\", \"south\", \"west\"])  # returns random action\n",
        "\n",
        "        i, j = np.random.randint(n), np.random.randint(n) # Generate a random position for the agent in a 2D space\n",
        "        c = 0\n",
        "        s = 0\n",
        "        while len(visited) < n * n and verbose==True:  # looping till all rooms visited\n",
        "            print(\"Step\",c,\"Position:\", f\"({i},{j})\", end=\" \") # display\n",
        "            c += 1\n",
        "            d = visit(i, j) # fn call\n",
        "            s += d\n",
        "            if d == 1:\n",
        "                print(\"Step\",c,\"Position:\", f\"({i},{j})\", end=\" \")  # display\n",
        "                c += 1\n",
        "            while 1:\n",
        "              move = agent() # get random move for agent\n",
        "              # Condition check for particular moves\n",
        "              if move == \"north\" and i > 0:\n",
        "                  i -= 1\n",
        "                  break\n",
        "              elif move == \"east\" and j < n - 1:\n",
        "                  j += 1\n",
        "                  break\n",
        "              elif move == \"south\" and i < n - 1:\n",
        "                  i += 1\n",
        "                  break\n",
        "              elif move == \"west\" and j > 0:\n",
        "                  j -= 1\n",
        "                  break\n",
        "            print(\"Action:\", move) # display\n",
        "\n",
        "        return c,s\n",
        "\n",
        "    c,s = simple_randomized_agent(env) # # fn call\n",
        "\n",
        "    # display\n",
        "    print(\"\\nEnvironment after cleaning:\",env,sep=\"\\n\")\n",
        "    print()\n",
        "\n",
        "    return c,s\n",
        "\n",
        "size = int(input(\"Enter matrix dimension: \"))\n",
        "p = float(input(\"Enter probability: \"))\n",
        "enery_used, cleaned_loc = simple_environment(size,p)\n",
        "\n",
        "\n",
        "print(\"Total locations Cleaned =\",cleaned_loc)\n",
        "print(\"Total energy Used =\",enery_used)\n",
        "\n"
      ]
    }
  ],
  "metadata": {
    "colab": {
      "provenance": []
    },
    "kernelspec": {
      "display_name": "Python 3 (ipykernel)",
      "language": "python",
      "name": "python3"
    },
    "language_info": {
      "codemirror_mode": {
        "name": "ipython",
        "version": 3
      },
      "file_extension": ".py",
      "mimetype": "text/x-python",
      "name": "python",
      "nbconvert_exporter": "python",
      "pygments_lexer": "ipython3",
      "version": "3.10.12"
    },
    "toc-autonumbering": false
  },
  "nbformat": 4,
  "nbformat_minor": 0
}
